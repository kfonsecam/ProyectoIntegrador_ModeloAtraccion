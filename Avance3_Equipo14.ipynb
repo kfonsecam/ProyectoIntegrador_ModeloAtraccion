{
 "cells": [
  {
   "cell_type": "markdown",
   "id": "ae497aaa",
   "metadata": {
    "id": "ae497aaa"
   },
   "source": [
    "# Modelo de predicción de inscripciones estudiantiles mediante técnicas de Machine Learning\n",
    "\n",
    "**Maestría en Inteligencia Artificial Aplicada**\n",
    "\n",
    "**Proyecto Integrador Sep-Nov 2025**\n",
    "\n",
    "**Equipo 14**\n",
    "\n",
    "**Avance 3. Baseline**\n",
    "\n",
    "**Integrantes:**\n",
    "\n",
    "- Alejandro Roa Solis – A01129942\n",
    "- Annette Cristina Narvaez Andrade – A00571041\n",
    "- Karla Alejandra Fonseca Márquez – A01795313\n",
    "\n",
    "\n",
    "**Patrocinador Tec de Monterrey:**\n",
    "\n",
    "Dr. Juan Arturo Nolazco Flores, Director del Hub de Ciencias y Datos de la Escuela de Ingeniería del Tec de Monterrey"
   ]
  },
  {
   "cell_type": "markdown",
   "id": "5faf885e",
   "metadata": {},
   "source": [
    "En esta tercera etapa del proyecto, se construye un modelo *baseline* orientado a evaluar la viabilidad de predecir la atracción de estudiantes admitidos al Tecnológico de Monterrey. El objetivo es establecer un punto de referencia inicial que permita determinar si los datos disponibles ofrecen suficiente información para anticipar el comportamiento de atracción, es decir, si un estudiante admitido finalmente decide inscribirse. \n",
    "\n",
    "El análisis se realiza considerando tres grupos distintos: aspirantes a **Prepa Tec**, aspirantes a **Profesional provenientes de Prepa Tec** y aspirantes a **Profesional externos**. Este modelo de referencia servirá para identificar patrones generales y estimar un desempeño mínimo aceptable, así como para evaluar la relevancia de las variables incluidas y posibles indicios de subajuste o sobreajuste. \n",
    "\n",
    "En conjunto, este baseline permitirá valorar el potencial predictivo de los datos y guiar el desarrollo posterior de modelos más sofisticados que optimicen la predicción de atracción estudiantil.\n"
   ]
  },
  {
   "cell_type": "code",
   "execution_count": 1,
   "id": "2eea961d",
   "metadata": {},
   "outputs": [
    {
     "name": "stderr",
     "output_type": "stream",
     "text": [
      "<>:5: SyntaxWarning: invalid escape sequence '\\p'\n",
      "<>:5: SyntaxWarning: invalid escape sequence '\\p'\n",
      "C:\\Users\\AnnetteCristinaNarva\\AppData\\Local\\Temp\\ipykernel_30476\\922667047.py:5: SyntaxWarning: invalid escape sequence '\\p'\n",
      "  df = pd.read_csv(\"FE_DS\\prepa_tec_feature_engineered_full.csv\")\n"
     ]
    }
   ],
   "source": [
    "import pandas as pd\n",
    "from sklearn.model_selection import train_test_split\n",
    "\n",
    "# Cargar dataset procesado\n",
    "df = pd.read_csv(\"FE_DS\\prepa_tec_feature_engineered_full.csv\")\n",
    "\n",
    "# Separar variables predictoras y objetivo\n",
    "X = df.drop(columns=[\"INSCRITO\"])\n",
    "y = df[\"INSCRITO\"]\n",
    "\n",
    "# Dividir en entrenamiento y prueba\n",
    "X_train, X_test, y_train, y_test = train_test_split(X, y, test_size=0.3, random_state=42, stratify=y)\n"
   ]
  },
  {
   "cell_type": "code",
   "execution_count": 2,
   "id": "b01d3831",
   "metadata": {},
   "outputs": [
    {
     "name": "stdout",
     "output_type": "stream",
     "text": [
      "Accuracy (Dummy): 0.8149441340782123\n",
      "F1-score (Dummy): 0.8980377068103117\n"
     ]
    }
   ],
   "source": [
    "from sklearn.dummy import DummyClassifier\n",
    "from sklearn.metrics import accuracy_score, f1_score, roc_auc_score, confusion_matrix\n",
    "\n",
    "dummy = DummyClassifier(strategy=\"most_frequent\")  # o \"stratified\"\n",
    "dummy.fit(X_train, y_train)\n",
    "y_pred_dummy = dummy.predict(X_test)\n",
    "\n",
    "print(\"Accuracy (Dummy):\", accuracy_score(y_test, y_pred_dummy))\n",
    "print(\"F1-score (Dummy):\", f1_score(y_test, y_pred_dummy))\n"
   ]
  },
  {
   "cell_type": "code",
   "execution_count": 13,
   "id": "b015f7a8",
   "metadata": {},
   "outputs": [
    {
     "name": "stdout",
     "output_type": "stream",
     "text": [
      "Accuracy (LogReg): 0.8149441340782123\n",
      "F1-score (LogReg): 0.8980377068103117\n",
      "ROC-AUC: 0.6625584064930236\n"
     ]
    }
   ],
   "source": [
    "from sklearn.linear_model import LogisticRegression\n",
    "\n",
    "logreg = LogisticRegression(max_iter=1000)\n",
    "logreg.fit(X_train, y_train)\n",
    "y_pred_log = logreg.predict(X_test)\n",
    "y_proba_log = logreg.predict_proba(X_test)[:, 1]\n",
    "\n",
    "# Métricas de evaluación\n",
    "print(\"Accuracy (LogReg):\", accuracy_score(y_test, y_pred_log))\n",
    "print(\"F1-score (LogReg):\", f1_score(y_test, y_pred_log))\n",
    "print(\"ROC-AUC:\", roc_auc_score(y_test, y_proba_log))\n"
   ]
  },
  {
   "cell_type": "code",
   "execution_count": 14,
   "id": "dae33629",
   "metadata": {},
   "outputs": [
    {
     "name": "stdout",
     "output_type": "stream",
     "text": [
      "Accuracy (balanced): 0.5813547486033519\n",
      "F1-score (balanced): 0.6862077990054959\n",
      "ROC-AUC (balanced): 0.6628453864933469\n"
     ]
    }
   ],
   "source": [
    "from sklearn.linear_model import LogisticRegression\n",
    "from sklearn.metrics import accuracy_score, f1_score, roc_auc_score\n",
    "\n",
    "# Modelo con pesos balanceados\n",
    "logreg_bal = LogisticRegression(max_iter=1000, class_weight='balanced')\n",
    "logreg_bal.fit(X_train, y_train)\n",
    "\n",
    "y_pred_bal = logreg_bal.predict(X_test)\n",
    "y_proba_bal = logreg_bal.predict_proba(X_test)[:, 1]\n",
    "\n",
    "print(\"Accuracy (balanced):\", accuracy_score(y_test, y_pred_bal))\n",
    "print(\"F1-score (balanced):\", f1_score(y_test, y_pred_bal))\n",
    "print(\"ROC-AUC (balanced):\", roc_auc_score(y_test, y_proba_bal))"
   ]
  },
  {
   "cell_type": "code",
   "execution_count": 15,
   "id": "a22f91eb",
   "metadata": {},
   "outputs": [
    {
     "name": "stdout",
     "output_type": "stream",
     "text": [
      "Distribución original: INSCRITO\n",
      "1    0.814876\n",
      "0    0.185124\n",
      "Name: proportion, dtype: float64\n",
      "Distribución balanceada: INSCRITO\n",
      "1    0.5\n",
      "0    0.5\n",
      "Name: proportion, dtype: float64\n",
      "Accuracy (SMOTE): 0.5837988826815642\n",
      "F1-score (SMOTE): 0.6886102403343782\n",
      "ROC-AUC (SMOTE): 0.6611041050265962\n"
     ]
    }
   ],
   "source": [
    "from imblearn.over_sampling import SMOTE\n",
    "from sklearn.model_selection import train_test_split\n",
    "\n",
    "# Aplicar SMOTE solo en el conjunto de entrenamiento\n",
    "sm = SMOTE(random_state=42)\n",
    "X_train_res, y_train_res = sm.fit_resample(X_train, y_train)\n",
    "\n",
    "print(\"Distribución original:\", y_train.value_counts(normalize=True))\n",
    "print(\"Distribución balanceada:\", y_train_res.value_counts(normalize=True))\n",
    "\n",
    "# Entrenar nuevamente la regresión logística\n",
    "logreg_smote = LogisticRegression(max_iter=1000)\n",
    "logreg_smote.fit(X_train_res, y_train_res)\n",
    "\n",
    "y_pred_smote = logreg_smote.predict(X_test)\n",
    "y_proba_smote = logreg_smote.predict_proba(X_test)[:, 1]\n",
    "\n",
    "print(\"Accuracy (SMOTE):\", accuracy_score(y_test, y_pred_smote))\n",
    "print(\"F1-score (SMOTE):\", f1_score(y_test, y_pred_smote))\n",
    "print(\"ROC-AUC (SMOTE):\", roc_auc_score(y_test, y_proba_smote))\n"
   ]
  },
  {
   "cell_type": "code",
   "execution_count": 12,
   "id": "5e7aa56e",
   "metadata": {},
   "outputs": [
    {
     "name": "stdout",
     "output_type": "stream",
     "text": [
      "Accuracy (RF): 0.6043994413407822\n",
      "F1-score (RF): 0.7101560501407009\n",
      "ROC-AUC (RF): 0.6770674685938789\n"
     ]
    }
   ],
   "source": [
    "from sklearn.ensemble import RandomForestClassifier\n",
    "\n",
    "rf = RandomForestClassifier(\n",
    "    n_estimators=200,\n",
    "    max_depth=6,\n",
    "    class_weight='balanced',\n",
    "    random_state=42\n",
    ")\n",
    "rf.fit(X_train, y_train)\n",
    "\n",
    "y_pred_rf = rf.predict(X_test)\n",
    "y_proba_rf = rf.predict_proba(X_test)[:, 1]\n",
    "\n",
    "print(\"Accuracy (RF):\", accuracy_score(y_test, y_pred_rf))\n",
    "print(\"F1-score (RF):\", f1_score(y_test, y_pred_rf))\n",
    "print(\"ROC-AUC (RF):\", roc_auc_score(y_test, y_proba_rf))\n"
   ]
  },
  {
   "cell_type": "markdown",
   "id": "073e496f",
   "metadata": {},
   "source": [
    "## 🧠 Evaluación de Modelos Baseline — Predicción de Atracción de Estudiantes Admitidos\n",
    "\n",
    "Durante esta fase se construyeron distintos modelos de referencia (*baseline*) con el objetivo de evaluar la viabilidad del problema de predicción de atracción.  \n",
    "El conjunto de datos presenta un fuerte desbalance (81 % inscritos vs. 19 % no inscritos), por lo que se aplicaron diferentes estrategias de balanceo y modelos de complejidad creciente.\n",
    "\n",
    "---\n",
    "\n",
    "### 📊 Comparación de Modelos\n",
    "\n",
    "| Modelo | Accuracy | F1-score | ROC-AUC | Comentario |\n",
    "|:--------|:---------:|:---------:|:---------:|:------------|\n",
    "| **Dummy (most_frequent)** | 0.8149 | 0.8908 | — | Predice siempre la clase mayoritaria (“inscrito”). Sirve como referencia al azar. |\n",
    "| **Regresión Logística (sin balancear)** | 0.8149 | 0.8908 | 0.6626 | Igual que el Dummy: no logra aprender patrones discriminativos. |\n",
    "| **Regresión Logística (class_weight='balanced')** | 0.5813 | 0.6862 | 0.6628 | Empieza a identificar “no inscritos”, baja el accuracy pero mejora la equidad. |\n",
    "| **Regresión Logística + SMOTE** | 0.5838 | 0.6848 | 0.6610 | Resultados similares; el balance sintético no mejora sustancialmente el modelo lineal. |\n",
    "| **Random Forest (class_weight='balanced')** | **0.6044** | **0.7101** | **0.6771** | Mejor desempeño general. Capta relaciones no lineales y mejora la discriminación. |\n",
    "\n",
    "---\n",
    "\n",
    "### 🧩 Interpretación\n",
    "\n",
    "- Los modelos iniciales (Dummy y Regresión Logística simple) obtienen métricas altas debido al **desbalance de clases**, ya que predicen casi siempre la clase mayoritaria.\n",
    "- Al aplicar técnicas de **balanceo de pesos y SMOTE**, el modelo comienza a reconocer la clase minoritaria (“no inscritos”), lo que reduce la exactitud pero mejora la **capacidad de discriminación**.\n",
    "- El **Random Forest balanceado** logra el mejor rendimiento general, con un F1-score de **0.71** y un ROC-AUC de **0.68**, mostrando que el problema es **viable** y los datos contienen **patrones predictivos útiles**.\n",
    "\n",
    "---\n",
    "\n",
    "### 🔍 Conclusión\n",
    "\n",
    "> El baseline demuestra que, aunque el problema está fuertemente desbalanceado, es posible mejorar la capacidad predictiva aplicando técnicas de balanceo y modelos más flexibles.  \n",
    "> El **Random Forest** se consolida como el modelo baseline más prometedor, sirviendo como punto de partida para fases posteriores de optimización e implementación de modelos más avanzados (p. ej. XGBoost, LightGBM o redes neuronales).\n",
    "\n",
    "---"
   ]
  },
  {
   "cell_type": "code",
   "execution_count": 18,
   "id": "2eba08e7",
   "metadata": {},
   "outputs": [
    {
     "name": "stdout",
     "output_type": "stream",
     "text": [
      "              precision    recall  f1-score   support\n",
      "\n",
      " No inscrito       0.27      0.65      0.38       530\n",
      "    Inscrito       0.88      0.59      0.71      2334\n",
      "\n",
      "    accuracy                           0.60      2864\n",
      "   macro avg       0.57      0.62      0.54      2864\n",
      "weighted avg       0.77      0.60      0.65      2864\n",
      "\n"
     ]
    },
    {
     "data": {
      "image/png": "[encoded data removed]",
      "text/plain": [
       "<Figure size 640x480 with 2 Axes>"
      ]
     },
     "metadata": {},
     "output_type": "display_data"
    }
   ],
   "source": [
    "from sklearn.metrics import classification_report, confusion_matrix, ConfusionMatrixDisplay\n",
    "import matplotlib.pyplot as plt\n",
    "\n",
    "# Métricas detalladas\n",
    "print(classification_report(y_test, y_pred_rf, target_names=['No inscrito', 'Inscrito']))\n",
    "\n",
    "# Matriz de confusión\n",
    "cm = confusion_matrix(y_test, y_pred_rf)\n",
    "disp = ConfusionMatrixDisplay(confusion_matrix=cm, display_labels=['No inscrito', 'Inscrito'])\n",
    "disp.plot(cmap='Blues', values_format='d')\n",
    "plt.title(\"Matriz de Confusión - Random Forest Balanceado\")\n",
    "plt.show()"
   ]
  },
  {
   "cell_type": "code",
   "execution_count": 16,
   "id": "c6833fa7",
   "metadata": {},
   "outputs": [
    {
     "data": {
      "text/html": [
       "<div>\n",
       "<style scoped>\n",
       "    .dataframe tbody tr th:only-of-type {\n",
       "        vertical-align: middle;\n",
       "    }\n",
       "\n",
       "    .dataframe tbody tr th {\n",
       "        vertical-align: top;\n",
       "    }\n",
       "\n",
       "    .dataframe thead th {\n",
       "        text-align: right;\n",
       "    }\n",
       "</style>\n",
       "<table border=\"1\" class=\"dataframe\">\n",
       "  <thead>\n",
       "    <tr style=\"text-align: right;\">\n",
       "      <th></th>\n",
       "      <th>Variable</th>\n",
       "      <th>Importancia</th>\n",
       "    </tr>\n",
       "  </thead>\n",
       "  <tbody>\n",
       "    <tr>\n",
       "      <th>1</th>\n",
       "      <td>num__V_PAA_IND</td>\n",
       "      <td>0.254992</td>\n",
       "    </tr>\n",
       "    <tr>\n",
       "      <th>7</th>\n",
       "      <td>num__TIENE_BECA</td>\n",
       "      <td>0.083660</td>\n",
       "    </tr>\n",
       "    <tr>\n",
       "      <th>4</th>\n",
       "      <td>num__PRC_BECA_F</td>\n",
       "      <td>0.077722</td>\n",
       "    </tr>\n",
       "    <tr>\n",
       "      <th>15</th>\n",
       "      <td>ohe__TIPO_BECA_F_Sin beca</td>\n",
       "      <td>0.075615</td>\n",
       "    </tr>\n",
       "    <tr>\n",
       "      <th>0</th>\n",
       "      <td>num__V_PROM_IND</td>\n",
       "      <td>0.070163</td>\n",
       "    </tr>\n",
       "    <tr>\n",
       "      <th>2</th>\n",
       "      <td>num__PUNTAJE_EUC</td>\n",
       "      <td>0.068112</td>\n",
       "    </tr>\n",
       "    <tr>\n",
       "      <th>5</th>\n",
       "      <td>num__RUBRICA_LOG</td>\n",
       "      <td>0.060727</td>\n",
       "    </tr>\n",
       "    <tr>\n",
       "      <th>9</th>\n",
       "      <td>num__CAMPUS_UTILIZADO_FREQ</td>\n",
       "      <td>0.055059</td>\n",
       "    </tr>\n",
       "    <tr>\n",
       "      <th>10</th>\n",
       "      <td>num__SEDE_FREQ</td>\n",
       "      <td>0.047127</td>\n",
       "    </tr>\n",
       "    <tr>\n",
       "      <th>6</th>\n",
       "      <td>num__ENSAYO_LOG</td>\n",
       "      <td>0.043176</td>\n",
       "    </tr>\n",
       "    <tr>\n",
       "      <th>16</th>\n",
       "      <td>ohe__TIPO_BECA_F_Tradicional</td>\n",
       "      <td>0.039569</td>\n",
       "    </tr>\n",
       "    <tr>\n",
       "      <th>12</th>\n",
       "      <td>ord__AREA</td>\n",
       "      <td>0.035785</td>\n",
       "    </tr>\n",
       "    <tr>\n",
       "      <th>8</th>\n",
       "      <td>num__PROMEDIO_ALTO</td>\n",
       "      <td>0.025130</td>\n",
       "    </tr>\n",
       "    <tr>\n",
       "      <th>18</th>\n",
       "      <td>ohe__AREA_PTM</td>\n",
       "      <td>0.019254</td>\n",
       "    </tr>\n",
       "    <tr>\n",
       "      <th>3</th>\n",
       "      <td>num__EDAD</td>\n",
       "      <td>0.014957</td>\n",
       "    </tr>\n",
       "  </tbody>\n",
       "</table>\n",
       "</div>"
      ],
      "text/plain": [
       "                        Variable  Importancia\n",
       "1                 num__V_PAA_IND     0.254992\n",
       "7                num__TIENE_BECA     0.083660\n",
       "4                num__PRC_BECA_F     0.077722\n",
       "15     ohe__TIPO_BECA_F_Sin beca     0.075615\n",
       "0                num__V_PROM_IND     0.070163\n",
       "2               num__PUNTAJE_EUC     0.068112\n",
       "5               num__RUBRICA_LOG     0.060727\n",
       "9     num__CAMPUS_UTILIZADO_FREQ     0.055059\n",
       "10                num__SEDE_FREQ     0.047127\n",
       "6                num__ENSAYO_LOG     0.043176\n",
       "16  ohe__TIPO_BECA_F_Tradicional     0.039569\n",
       "12                     ord__AREA     0.035785\n",
       "8             num__PROMEDIO_ALTO     0.025130\n",
       "18                 ohe__AREA_PTM     0.019254\n",
       "3                      num__EDAD     0.014957"
      ]
     },
     "execution_count": 16,
     "metadata": {},
     "output_type": "execute_result"
    }
   ],
   "source": [
    "import pandas as pd\n",
    "import numpy as np\n",
    "\n",
    "# Calcular importancia de variables\n",
    "feat_importance = pd.DataFrame({\n",
    "    'Variable': X_train.columns,\n",
    "    'Importancia': rf.feature_importances_\n",
    "}).sort_values(by='Importancia', ascending=False)\n",
    "\n",
    "# Mostrar las 15 más importantes\n",
    "feat_importance.head(15)\n"
   ]
  },
  {
   "cell_type": "code",
   "execution_count": 19,
   "id": "e292a50e",
   "metadata": {},
   "outputs": [
    {
     "data": {
      "text/plain": [
       "<Figure size 800x600 with 0 Axes>"
      ]
     },
     "metadata": {},
     "output_type": "display_data"
    },
    {
     "data": {
      "image/png": "[encoded data removed]",
      "text/plain": [
       "<Figure size 640x480 with 1 Axes>"
      ]
     },
     "metadata": {},
     "output_type": "display_data"
    }
   ],
   "source": [
    "plt.figure(figsize=(8, 6))\n",
    "feat_importance.head(15).plot(kind='barh', x='Variable', y='Importancia', legend=False)\n",
    "plt.title(\"Top 15 Variables más importantes - Random Forest\")\n",
    "plt.xlabel(\"Importancia\")\n",
    "plt.ylabel(\"Variable\")\n",
    "plt.gca().invert_yaxis()\n",
    "plt.show()\n"
   ]
  },
  {
   "cell_type": "markdown",
   "id": "69e304ab",
   "metadata": {},
   "source": [
    "## 🌳 Análisis del Modelo Random Forest Balanceado\n",
    "\n",
    "### 📈 Rendimiento del modelo\n",
    "| Clase | Precisión | Recall | F1-score | Soporte |\n",
    "|:-------|:----------:|:--------:|:----------:|:----------:|\n",
    "| **No inscrito** | 0.27 | 0.65 | 0.38 | 530 |\n",
    "| **Inscrito** | 0.88 | 0.59 | 0.71 | 2334 |\n",
    "| **Accuracy global** | **0.60** |  |  | 2864 |\n",
    "| **Macro promedio** | 0.57 | 0.62 | 0.54 |  |\n",
    "| **Ponderado promedio** | 0.77 | 0.60 | 0.65 |  |\n",
    "\n",
    "**Interpretación:**\n",
    "- El modelo logra un **F1-score general de 0.65**, lo cual representa una mejora clara respecto a los modelos lineales previos.  \n",
    "- Para la clase **“No inscrito”**, el *recall* (0.65) indica que el modelo logra identificar **el 65 % de los estudiantes que realmente no se inscriben**, aunque con baja precisión (0.27), es decir, aún predice algunos falsos positivos.  \n",
    "- Para la clase **“Inscrito”**, mantiene una buena precisión (0.88) pero sacrifica algo de recall (0.59), mostrando un modelo más equilibrado.  \n",
    "- La **accuracy total del 60 %** refleja el ajuste a un dataset balanceado, ya que el modelo prioriza captar correctamente la clase minoritaria.\n",
    "\n",
    "---\n",
    "\n",
    "### 🔢 Matriz de confusión\n",
    "**Interpretación:**\n",
    "- **343 casos** de “No inscrito” fueron correctamente clasificados.  \n",
    "- **187 casos** de “No inscrito” fueron mal clasificados como “Inscrito”.  \n",
    "- **946 casos** de “Inscrito” fueron predichos incorrectamente como “No inscrito”.  \n",
    "- **1388 casos** de “Inscrito” fueron correctamente identificados.\n",
    "\n",
    "El modelo está comenzando a **reconocer el patrón de deserción (no inscripción)**, aunque sigue existiendo un número considerable de falsos negativos (inscritos mal clasificados).  \n",
    "Esto sugiere que aún hay margen para mejorar el *recall* de los inscritos y la precisión de los no inscritos.\n",
    "\n",
    "---\n",
    "\n",
    "### 🌟 Importancia de las variables\n",
    "**Principales variables predictivas:**\n",
    "1. **`V_PAA_IND`** – Puntaje de admisión estandarizado: es el factor con mayor peso, indicando que el desempeño académico previo tiene una fuerte relación con la probabilidad de inscripción.  \n",
    "2. **`TIENE_BECA`** y **`PRC_BECA_F`** – La presencia y porcentaje de beca son también determinantes; los alumnos con beca tienden a tener mayor probabilidad de inscripción.  \n",
    "3. **Tipo de beca (“Sin beca”, “Tradicional”)** – Complementa el punto anterior, mostrando diferencias por tipo de apoyo económico.  \n",
    "4. **`V_PROM_IND`** y **`PUNTAJE_EUC`** – Métricas académicas adicionales que refuerzan el peso del rendimiento académico.  \n",
    "5. **Variables de campus y sede** (`CAMPUS_UTILIZADO_FREQ`, `SEDE_FREQ`) – Sugieren que la ubicación o elección de campus podría estar relacionada con la atracción del estudiante.  \n",
    "6. **`RUBRICA_LOG`** y **`ENSAYO_LOG`** – Variables de evaluación cualitativa que también aportan información relevante.\n",
    "\n",
    "---\n",
    "\n",
    "### 🧭 Conclusión\n",
    "> El **Random Forest balanceado** logra un equilibrio razonable entre ambas clases, mostrando una mejora sustancial en el reconocimiento de estudiantes que no se inscriben.  \n",
    "> Aunque la precisión en esta clase es aún baja, el recall de 0.65 representa un avance importante respecto a los modelos lineales.  \n",
    "> Las variables académicas (`V_PAA_IND`, `V_PROM_IND`, `PUNTAJE_EUC`) y las relacionadas con becas (`TIENE_BECA`, `PRC_BECA_F`, `TIPO_BECA_F`) son las que más influyen en la decisión final de inscripción.  \n",
    "> Este análisis confirma que los datos contienen **información predictiva útil**, y que el problema es **viable para modelos más sofisticados** (como XGBoost o LightGBM) que optimicen la sensibilidad y la precisión simultáneamente.\n",
    "\n"
   ]
  }
 ],
 "metadata": {
  "colab": {
   "name": "",
   "version": ""
  },
  "kernelspec": {
   "display_name": "Python 3",
   "language": "python",
   "name": "python3"
  },
  "language_info": {
   "codemirror_mode": {
    "name": "ipython",
    "version": 3
   },
   "file_extension": ".py",
   "mimetype": "text/x-python",
   "name": "python",
   "nbconvert_exporter": "python",
   "pygments_lexer": "ipython3",
   "version": "3.13.5"
  }
 },
 "nbformat": 4,
 "nbformat_minor": 5
}
